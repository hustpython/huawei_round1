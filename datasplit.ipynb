{
 "cells": [
  {
   "cell_type": "code",
   "execution_count": 43,
   "metadata": {
    "collapsed": false,
    "scrolled": true
   },
   "outputs": [
    {
     "data": {
      "text/html": [
       "<div>\n",
       "<table border=\"1\" class=\"dataframe\">\n",
       "  <thead>\n",
       "    <tr style=\"text-align: right;\">\n",
       "      <th></th>\n",
       "      <th>类型</th>\n",
       "      <th>cpu数目</th>\n",
       "      <th>内存大小(MB)</th>\n",
       "    </tr>\n",
       "  </thead>\n",
       "  <tbody>\n",
       "    <tr>\n",
       "      <th>0</th>\n",
       "      <td>flavor1</td>\n",
       "      <td>1</td>\n",
       "      <td>1024</td>\n",
       "    </tr>\n",
       "    <tr>\n",
       "      <th>1</th>\n",
       "      <td>flavor2</td>\n",
       "      <td>1</td>\n",
       "      <td>2048</td>\n",
       "    </tr>\n",
       "    <tr>\n",
       "      <th>2</th>\n",
       "      <td>flavor3</td>\n",
       "      <td>1</td>\n",
       "      <td>4096</td>\n",
       "    </tr>\n",
       "    <tr>\n",
       "      <th>3</th>\n",
       "      <td>flavor4</td>\n",
       "      <td>2</td>\n",
       "      <td>2048</td>\n",
       "    </tr>\n",
       "    <tr>\n",
       "      <th>4</th>\n",
       "      <td>flavor5</td>\n",
       "      <td>2</td>\n",
       "      <td>4096</td>\n",
       "    </tr>\n",
       "    <tr>\n",
       "      <th>5</th>\n",
       "      <td>flavor6</td>\n",
       "      <td>2</td>\n",
       "      <td>8192</td>\n",
       "    </tr>\n",
       "    <tr>\n",
       "      <th>6</th>\n",
       "      <td>flavor7</td>\n",
       "      <td>4</td>\n",
       "      <td>4096</td>\n",
       "    </tr>\n",
       "    <tr>\n",
       "      <th>7</th>\n",
       "      <td>flavor8</td>\n",
       "      <td>4</td>\n",
       "      <td>8192</td>\n",
       "    </tr>\n",
       "    <tr>\n",
       "      <th>8</th>\n",
       "      <td>flavor9</td>\n",
       "      <td>4</td>\n",
       "      <td>16384</td>\n",
       "    </tr>\n",
       "    <tr>\n",
       "      <th>9</th>\n",
       "      <td>flavor10</td>\n",
       "      <td>8</td>\n",
       "      <td>8192</td>\n",
       "    </tr>\n",
       "    <tr>\n",
       "      <th>10</th>\n",
       "      <td>flavor11</td>\n",
       "      <td>8</td>\n",
       "      <td>16384</td>\n",
       "    </tr>\n",
       "    <tr>\n",
       "      <th>11</th>\n",
       "      <td>flavor12</td>\n",
       "      <td>8</td>\n",
       "      <td>32768</td>\n",
       "    </tr>\n",
       "    <tr>\n",
       "      <th>12</th>\n",
       "      <td>flavor13</td>\n",
       "      <td>16</td>\n",
       "      <td>16384</td>\n",
       "    </tr>\n",
       "    <tr>\n",
       "      <th>13</th>\n",
       "      <td>flavor14</td>\n",
       "      <td>16</td>\n",
       "      <td>32768</td>\n",
       "    </tr>\n",
       "    <tr>\n",
       "      <th>14</th>\n",
       "      <td>flavor15</td>\n",
       "      <td>16</td>\n",
       "      <td>65536</td>\n",
       "    </tr>\n",
       "  </tbody>\n",
       "</table>\n",
       "</div>"
      ],
      "text/plain": [
       "          类型  cpu数目  内存大小(MB)\n",
       "0    flavor1      1      1024\n",
       "1    flavor2      1      2048\n",
       "2    flavor3      1      4096\n",
       "3    flavor4      2      2048\n",
       "4    flavor5      2      4096\n",
       "5    flavor6      2      8192\n",
       "6    flavor7      4      4096\n",
       "7    flavor8      4      8192\n",
       "8    flavor9      4     16384\n",
       "9   flavor10      8      8192\n",
       "10  flavor11      8     16384\n",
       "11  flavor12      8     32768\n",
       "12  flavor13     16     16384\n",
       "13  flavor14     16     32768\n",
       "14  flavor15     16     65536"
      ]
     },
     "execution_count": 43,
     "metadata": {},
     "output_type": "execute_result"
    }
   ],
   "source": [
    "# 导入数据结构\n",
    "import pandas as pd\n",
    "cloudservers = pd.read_csv('data/category.csv',header=None\n",
    "                           ,prefix=None\n",
    "                           ,names=[u'类型',u'cpu数目',u'内存大小(MB)'])\n",
    "cloudservers"
   ]
  },
  {
   "cell_type": "code",
   "execution_count": 132,
   "metadata": {
    "collapsed": false
   },
   "outputs": [
    {
     "name": "stdout",
     "output_type": "stream",
     "text": [
      "[[0, 0, 0, 0, 0, 0, 0, 0, 0, 0, 0, 0, 0, 0, 0, 0, 0, 0, 0, 0, 0, 0, 0, 0, 0, 0, 0, 0, 0, 0, 0, 0, 2, 0, 0, 0, 0, 1, 0, 0, 0, 0], [0, 1, 0, 0, 0, 0, 0, 0, 0, 0, 0, 0, 0, 0, 0, 0, 2, 0, 0, 0, 0, 0, 0, 0, 0, 1, 0, 1, 0, 0, 0, 0, 2, 0, 2, 0, 0, 0, 0, 0, 0, 2], [0, 0, 0, 0, 0, 0, 0, 0, 2, 1, 0, 0, 0, 0, 1, 0, 0, 1, 0, 0, 0, 0, 0, 0, 0, 1, 0, 0, 2, 0, 0, 0, 0, 0, 1, 0, 0, 0, 1, 0, 0, 0], [0, 0, 0, 0, 0, 0, 0, 0, 0, 1, 0, 0, 1, 0, 0, 0, 1, 0, 0, 0, 0, 0, 0, 0, 0, 0, 0, 0, 0, 1, 0, 0, 0, 0, 0, 0, 0, 0, 0, 0, 0, 0], [0, 0, 0, 0, 0, 0, 0, 0, 0, 0, 12, 2, 0, 1, 0, 3, 0, 0, 0, 0, 1, 1, 1, 0, 0, 0, 3, 1, 0, 3, 1, 0, 0, 0, 0, 1, 2, 0, 0, 0, 0, 0], [0, 0, 1, 0, 1, 0, 0, 0, 0, 0, 1, 0, 0, 0, 0, 3, 0, 0, 0, 0, 0, 1, 0, 0, 0, 0, 6, 0, 2, 0, 0, 0, 0, 0, 0, 0, 3, 0, 0, 0, 0, 0], [0, 0, 0, 0, 0, 0, 0, 0, 0, 0, 0, 1, 0, 0, 0, 0, 0, 0, 0, 0, 0, 0, 0, 0, 0, 0, 1, 0, 0, 0, 0, 0, 0, 0, 4, 8, 0, 0, 1, 2, 0, 0], [1, 1, 0, 1, 0, 1, 1, 0, 0, 0, 4, 0, 2, 3, 0, 4, 0, 0, 0, 0, 0, 1, 3, 2, 0, 0, 1, 0, 11, 1, 1, 0, 3, 0, 7, 0, 0, 0, 1, 0, 27, 0], [0, 0, 0, 0, 1, 1, 1, 0, 0, 2, 0, 0, 1, 6, 0, 1, 0, 0, 0, 0, 0, 0, 0, 0, 0, 0, 1, 0, 0, 0, 0, 3, 2, 1, 0, 2, 1, 0, 0, 3, 1, 1], [0, 0, 0, 0, 0, 0, 0, 0, 0, 0, 0, 0, 0, 0, 0, 0, 0, 0, 0, 0, 0, 0, 0, 0, 0, 0, 0, 0, 0, 0, 0, 0, 0, 0, 0, 0, 0, 0, 0, 3, 1, 0], [0, 0, 0, 0, 4, 0, 0, 1, 1, 0, 0, 0, 0, 0, 0, 5, 2, 3, 0, 0, 0, 0, 0, 0, 5, 0, 2, 0, 7, 0, 0, 0, 0, 2, 1, 2, 0, 0, 1, 1, 0, 0], [0, 0, 3, 0, 0, 5, 0, 5, 0, 0, 8, 1, 0, 5, 0, 0, 0, 0, 1, 0, 0, 0, 0, 0, 0, 0, 0, 0, 0, 0, 1, 6, 0, 0, 2, 0, 0, 0, 0, 1, 0, 0], [0, 0, 0, 0, 0, 0, 0, 0, 0, 0, 0, 0, 0, 0, 0, 0, 0, 0, 0, 0, 0, 0, 0, 0, 0, 0, 0, 0, 0, 0, 0, 0, 0, 1, 0, 0, 0, 0, 0, 0, 0, 0], [0, 0, 0, 0, 0, 0, 0, 21, 0, 0, 0, 6, 0, 0, 0, 0, 1, 0, 0, 8, 0, 0, 0, 0, 0, 0, 2, 0, 2, 4, 0, 0, 0, 0, 0, 0, 0, 0, 0, 0, 0, 0], [2, 2, 1, 0, 0, 1, 0, 0, 0, 0, 0, 7, 14, 4, 1, 0, 0, 0, 0, 0, 0, 0, 0, 0, 0, 0, 0, 0, 0, 0, 1, 0, 0, 0, 0, 0, 0, 0, 0, 0, 0, 0]]\n"
     ]
    }
   ],
   "source": [
    "import os\n",
    "import glob\n",
    "from collections import defaultdict\n",
    "def loaddata(traindata):\n",
    "    data_label = defaultdict(list)\n",
    "    #traindata = glob.glob(r'{}/*.txt'.format(dir))\n",
    "    #for i in traindata:\n",
    "    with open(traindata) as f:\n",
    "        f_lines = f.readlines()\n",
    "        for x in f_lines:\n",
    "            x = x.split('\\t')\n",
    "            daytime = str(x[-1].split(' ')[0])\n",
    "            cloudserve =  x[1]\n",
    "            data_label[daytime].append(cloudserve) \n",
    "    return sorted(data_label.items())\n",
    "data = loaddata('data/sampledata/TrainData_2015.1.1_2015.2.19.txt')\n",
    "period_lenth = [[0 for i in range(len(data))] for i in range(15)]\n",
    "category = ['flavor1','flavor2','flavor3','flavor4','flavor5',\n",
    "            'flavor6','flavor7','flavor8','flavor9','flavor10',\n",
    "            'flavor11','flavor12','flavor13','flavor14','flavor15']\n",
    "for _,i in enumerate(data):\n",
    "    for x in i[1]:\n",
    "        try:\n",
    "            index_flavor = category.index(x)\n",
    "        except:\n",
    "            index_flavor = -1\n",
    "        if index_flavor != -1:\n",
    "            period_lenth[index_flavor][_] += 1\n",
    "print(period_lenth)"
   ]
  },
  {
   "cell_type": "code",
   "execution_count": 140,
   "metadata": {
    "collapsed": false
   },
   "outputs": [
    {
     "data": {
      "image/png": "[encoded data removed]",
      "text/plain": [
       "<matplotlib.figure.Figure at 0x7fcf0450b470>"
      ]
     },
     "metadata": {},
     "output_type": "display_data"
    }
   ],
   "source": [
    "%matplotlib inline\n",
    "import matplotlib.pyplot as plt\n",
    "for _ in period_lenth[:2]:\n",
    "    plt.plot(range(len(data)),_)\n",
    "plt.show()"
   ]
  },
  {
   "cell_type": "markdown",
   "metadata": {},
   "source": [
    "# 对数据进行周期性展示"
   ]
  }
 ],
 "metadata": {
  "anaconda-cloud": {},
  "kernelspec": {
   "display_name": "Python [conda root]",
   "language": "python",
   "name": "conda-root-py"
  },
  "language_info": {
   "codemirror_mode": {
    "name": "ipython",
    "version": 3
   },
   "file_extension": ".py",
   "mimetype": "text/x-python",
   "name": "python",
   "nbconvert_exporter": "python",
   "pygments_lexer": "ipython3",
   "version": "3.5.2"
  }
 },
 "nbformat": 4,
 "nbformat_minor": 1
}
